{
 "cells": [
  {
   "cell_type": "markdown",
   "id": "9fea3025",
   "metadata": {
    "id": "TNgThdDR3ZLp",
    "papermill": {
     "duration": 0.008805,
     "end_time": "2023-01-28T22:24:26.293422",
     "exception": false,
     "start_time": "2023-01-28T22:24:26.284617",
     "status": "completed"
    },
    "tags": []
   },
   "source": [
    "**Görev 1: Verilen değerlerin veri yapılarını inceleyiniz.**\n",
    "\n",
    "*   x=8\n",
    "*  y=3.2\n",
    "* z=8j+18\n",
    "* a=\"Hello World\"\n",
    "* b=True\n",
    "* c=23<22\n",
    "* l=[1, 2, 3, 4]\n",
    "* d={\"Name\": \"Jake\", \"Age\":27, \"Adress\":\"Downtown\"}\n",
    "* t=(\"Machine Learning\", \"Data Science\")\n",
    "* s={\"Python\", \"Machine Learning\", \"Data Science\"}\n",
    "\n",
    "\n",
    "\n",
    "\n"
   ]
  },
  {
   "cell_type": "code",
   "execution_count": 1,
   "id": "05b6431b",
   "metadata": {
    "execution": {
     "iopub.execute_input": "2023-01-28T22:24:26.310905Z",
     "iopub.status.busy": "2023-01-28T22:24:26.310462Z",
     "iopub.status.idle": "2023-01-28T22:24:26.323020Z",
     "shell.execute_reply": "2023-01-28T22:24:26.322088Z"
    },
    "id": "c1A2Y9yvDUPQ",
    "outputId": "55832f47-d156-40c5-8bdb-9491ee6d7e8a",
    "papermill": {
     "duration": 0.023664,
     "end_time": "2023-01-28T22:24:26.325088",
     "exception": false,
     "start_time": "2023-01-28T22:24:26.301424",
     "status": "completed"
    },
    "tags": []
   },
   "outputs": [
    {
     "data": {
      "text/plain": [
       "int"
      ]
     },
     "execution_count": 1,
     "metadata": {},
     "output_type": "execute_result"
    }
   ],
   "source": [
    "x=8\n",
    "type(x)\n"
   ]
  },
  {
   "cell_type": "code",
   "execution_count": 2,
   "id": "b8214127",
   "metadata": {
    "execution": {
     "iopub.execute_input": "2023-01-28T22:24:26.342637Z",
     "iopub.status.busy": "2023-01-28T22:24:26.342283Z",
     "iopub.status.idle": "2023-01-28T22:24:26.348416Z",
     "shell.execute_reply": "2023-01-28T22:24:26.346972Z"
    },
    "id": "Fj6k87RZDgJd",
    "outputId": "1d35676b-1f8f-4107-bb89-e4a3e815779f",
    "papermill": {
     "duration": 0.017881,
     "end_time": "2023-01-28T22:24:26.351029",
     "exception": false,
     "start_time": "2023-01-28T22:24:26.333148",
     "status": "completed"
    },
    "tags": []
   },
   "outputs": [
    {
     "data": {
      "text/plain": [
       "float"
      ]
     },
     "execution_count": 2,
     "metadata": {},
     "output_type": "execute_result"
    }
   ],
   "source": [
    "y=3.2\n",
    "type(y)\n"
   ]
  },
  {
   "cell_type": "code",
   "execution_count": 3,
   "id": "62915e1c",
   "metadata": {
    "execution": {
     "iopub.execute_input": "2023-01-28T22:24:26.369367Z",
     "iopub.status.busy": "2023-01-28T22:24:26.368960Z",
     "iopub.status.idle": "2023-01-28T22:24:26.377313Z",
     "shell.execute_reply": "2023-01-28T22:24:26.375308Z"
    },
    "id": "01OVWdafDi4o",
    "outputId": "8381b981-c176-46f3-ddd0-445b98740efd",
    "papermill": {
     "duration": 0.020593,
     "end_time": "2023-01-28T22:24:26.380015",
     "exception": false,
     "start_time": "2023-01-28T22:24:26.359422",
     "status": "completed"
    },
    "tags": []
   },
   "outputs": [
    {
     "data": {
      "text/plain": [
       "complex"
      ]
     },
     "execution_count": 3,
     "metadata": {},
     "output_type": "execute_result"
    }
   ],
   "source": [
    "z=8j+18\n",
    "type(z)"
   ]
  },
  {
   "cell_type": "code",
   "execution_count": 4,
   "id": "7ee3b9e5",
   "metadata": {
    "execution": {
     "iopub.execute_input": "2023-01-28T22:24:26.398211Z",
     "iopub.status.busy": "2023-01-28T22:24:26.397782Z",
     "iopub.status.idle": "2023-01-28T22:24:26.404934Z",
     "shell.execute_reply": "2023-01-28T22:24:26.404082Z"
    },
    "id": "_sn8gU70DjEV",
    "outputId": "07e84602-2f31-4333-ac13-64cafc2ce559",
    "papermill": {
     "duration": 0.018542,
     "end_time": "2023-01-28T22:24:26.406977",
     "exception": false,
     "start_time": "2023-01-28T22:24:26.388435",
     "status": "completed"
    },
    "tags": []
   },
   "outputs": [
    {
     "data": {
      "text/plain": [
       "str"
      ]
     },
     "execution_count": 4,
     "metadata": {},
     "output_type": "execute_result"
    }
   ],
   "source": [
    "a=\"Hello World\"\n",
    "type(a)"
   ]
  },
  {
   "cell_type": "code",
   "execution_count": 5,
   "id": "90e420b8",
   "metadata": {
    "execution": {
     "iopub.execute_input": "2023-01-28T22:24:26.425505Z",
     "iopub.status.busy": "2023-01-28T22:24:26.425089Z",
     "iopub.status.idle": "2023-01-28T22:24:26.431708Z",
     "shell.execute_reply": "2023-01-28T22:24:26.430094Z"
    },
    "id": "iqdPiSMGDjP0",
    "outputId": "841355b6-44e0-413a-fbe0-87625acb1df5",
    "papermill": {
     "duration": 0.019178,
     "end_time": "2023-01-28T22:24:26.434535",
     "exception": false,
     "start_time": "2023-01-28T22:24:26.415357",
     "status": "completed"
    },
    "tags": []
   },
   "outputs": [
    {
     "data": {
      "text/plain": [
       "bool"
      ]
     },
     "execution_count": 5,
     "metadata": {},
     "output_type": "execute_result"
    }
   ],
   "source": [
    "b=True\n",
    "type(b)"
   ]
  },
  {
   "cell_type": "code",
   "execution_count": 6,
   "id": "5c3e38c0",
   "metadata": {
    "execution": {
     "iopub.execute_input": "2023-01-28T22:24:26.455456Z",
     "iopub.status.busy": "2023-01-28T22:24:26.455031Z",
     "iopub.status.idle": "2023-01-28T22:24:26.462508Z",
     "shell.execute_reply": "2023-01-28T22:24:26.460738Z"
    },
    "id": "RHQgP5KzDjbm",
    "outputId": "cf1c1c14-6a16-4765-c548-daa23cb1baf3",
    "papermill": {
     "duration": 0.020296,
     "end_time": "2023-01-28T22:24:26.465054",
     "exception": false,
     "start_time": "2023-01-28T22:24:26.444758",
     "status": "completed"
    },
    "tags": []
   },
   "outputs": [
    {
     "data": {
      "text/plain": [
       "bool"
      ]
     },
     "execution_count": 6,
     "metadata": {},
     "output_type": "execute_result"
    }
   ],
   "source": [
    "c=23<22\n",
    "type(c)"
   ]
  },
  {
   "cell_type": "code",
   "execution_count": 7,
   "id": "b8dccf92",
   "metadata": {
    "execution": {
     "iopub.execute_input": "2023-01-28T22:24:26.484437Z",
     "iopub.status.busy": "2023-01-28T22:24:26.484086Z",
     "iopub.status.idle": "2023-01-28T22:24:26.491743Z",
     "shell.execute_reply": "2023-01-28T22:24:26.490145Z"
    },
    "id": "nq8zl04TDjm8",
    "outputId": "88ff4084-e4ee-47eb-822c-76ddf4bca8ec",
    "papermill": {
     "duration": 0.02023,
     "end_time": "2023-01-28T22:24:26.494172",
     "exception": false,
     "start_time": "2023-01-28T22:24:26.473942",
     "status": "completed"
    },
    "tags": []
   },
   "outputs": [
    {
     "data": {
      "text/plain": [
       "list"
      ]
     },
     "execution_count": 7,
     "metadata": {},
     "output_type": "execute_result"
    }
   ],
   "source": [
    "l=[1, 2, 3, 4]\n",
    "type(l)\n"
   ]
  },
  {
   "cell_type": "code",
   "execution_count": 8,
   "id": "820f121e",
   "metadata": {
    "execution": {
     "iopub.execute_input": "2023-01-28T22:24:26.513568Z",
     "iopub.status.busy": "2023-01-28T22:24:26.513009Z",
     "iopub.status.idle": "2023-01-28T22:24:26.522660Z",
     "shell.execute_reply": "2023-01-28T22:24:26.521995Z"
    },
    "id": "lrk8y_ySDjyL",
    "outputId": "59fdc244-1db1-48ae-b4b8-49204edb53de",
    "papermill": {
     "duration": 0.021293,
     "end_time": "2023-01-28T22:24:26.524543",
     "exception": false,
     "start_time": "2023-01-28T22:24:26.503250",
     "status": "completed"
    },
    "tags": []
   },
   "outputs": [
    {
     "data": {
      "text/plain": [
       "dict"
      ]
     },
     "execution_count": 8,
     "metadata": {},
     "output_type": "execute_result"
    }
   ],
   "source": [
    "d={\"Name\": \"Jake\", \"Age\":27, \"Adress\":\"Downtown\"}\n",
    "type(d)"
   ]
  },
  {
   "cell_type": "code",
   "execution_count": 9,
   "id": "61d4bc5d",
   "metadata": {
    "execution": {
     "iopub.execute_input": "2023-01-28T22:24:26.544472Z",
     "iopub.status.busy": "2023-01-28T22:24:26.544058Z",
     "iopub.status.idle": "2023-01-28T22:24:26.550462Z",
     "shell.execute_reply": "2023-01-28T22:24:26.549633Z"
    },
    "id": "tnJGC04-Dj8m",
    "outputId": "512a9b9d-9020-4378-be0a-5acccad23025",
    "papermill": {
     "duration": 0.01847,
     "end_time": "2023-01-28T22:24:26.552197",
     "exception": false,
     "start_time": "2023-01-28T22:24:26.533727",
     "status": "completed"
    },
    "tags": []
   },
   "outputs": [
    {
     "data": {
      "text/plain": [
       "tuple"
      ]
     },
     "execution_count": 9,
     "metadata": {},
     "output_type": "execute_result"
    }
   ],
   "source": [
    "t=(\"Machine Learning\", \"Data Science\")\n",
    "type(t)"
   ]
  },
  {
   "cell_type": "code",
   "execution_count": 10,
   "id": "f922a13b",
   "metadata": {
    "execution": {
     "iopub.execute_input": "2023-01-28T22:24:26.571815Z",
     "iopub.status.busy": "2023-01-28T22:24:26.571455Z",
     "iopub.status.idle": "2023-01-28T22:24:26.577056Z",
     "shell.execute_reply": "2023-01-28T22:24:26.576422Z"
    },
    "id": "o__k4sriDkHo",
    "outputId": "4d694d92-ab59-408d-9597-e3c6d74fcb0b",
    "papermill": {
     "duration": 0.017494,
     "end_time": "2023-01-28T22:24:26.578956",
     "exception": false,
     "start_time": "2023-01-28T22:24:26.561462",
     "status": "completed"
    },
    "tags": []
   },
   "outputs": [
    {
     "data": {
      "text/plain": [
       "set"
      ]
     },
     "execution_count": 10,
     "metadata": {},
     "output_type": "execute_result"
    }
   ],
   "source": [
    "s={\"Python\", \"Machine Learning\", \"Data Science\"}\n",
    "type(s)"
   ]
  },
  {
   "cell_type": "markdown",
   "id": "701550a9",
   "metadata": {
    "id": "YpkbpEMd5Wtd",
    "papermill": {
     "duration": 0.009127,
     "end_time": "2023-01-28T22:24:26.597679",
     "exception": false,
     "start_time": "2023-01-28T22:24:26.588552",
     "status": "completed"
    },
    "tags": []
   },
   "source": [
    "**Görev 2: Verilen string ifadenin tüm harflerini büyük harfe çeviriniz. Virgül ve nokta yerine space koyunuz,\n",
    "kelime kelime ayırınız.**\n",
    "* text= \"The goal is to turn data into information, and information into insight.\"\n",
    "* **beklenen çıktı**\n",
    "['THE','GOAL','IS','TO','TURN','DATA','INTO','INFORMATION','AND','INFORMATION','INTO','INSIGHT']\n",
    "\n"
   ]
  },
  {
   "cell_type": "code",
   "execution_count": 11,
   "id": "d733c78f",
   "metadata": {
    "execution": {
     "iopub.execute_input": "2023-01-28T22:24:26.618301Z",
     "iopub.status.busy": "2023-01-28T22:24:26.617863Z",
     "iopub.status.idle": "2023-01-28T22:24:26.624629Z",
     "shell.execute_reply": "2023-01-28T22:24:26.623588Z"
    },
    "id": "8mRkoi2kEq2d",
    "outputId": "ba82ba25-3413-4d0b-bdc2-04159de0ab12",
    "papermill": {
     "duration": 0.019289,
     "end_time": "2023-01-28T22:24:26.626514",
     "exception": false,
     "start_time": "2023-01-28T22:24:26.607225",
     "status": "completed"
    },
    "tags": []
   },
   "outputs": [
    {
     "data": {
      "text/plain": [
       "['THE',\n",
       " 'GOAL',\n",
       " 'IS',\n",
       " 'TO',\n",
       " 'TURN',\n",
       " 'DATA',\n",
       " 'INTO',\n",
       " 'INFORMATION,',\n",
       " 'AND',\n",
       " 'INFORMATION',\n",
       " 'INTO',\n",
       " 'INSIGHT.']"
      ]
     },
     "execution_count": 11,
     "metadata": {},
     "output_type": "execute_result"
    }
   ],
   "source": [
    "text= \"The goal is to turn data into information, and information into insight.\"\n",
    "text=text.upper()\n",
    "text.split()"
   ]
  },
  {
   "cell_type": "markdown",
   "id": "d5f8a7b5",
   "metadata": {
    "id": "Vh7n3rIV5gnn",
    "papermill": {
     "duration": 0.009217,
     "end_time": "2023-01-28T22:24:26.645338",
     "exception": false,
     "start_time": "2023-01-28T22:24:26.636121",
     "status": "completed"
    },
    "tags": []
   },
   "source": [
    "**Görev 3: Verilen listeye aşağıdaki adımları uygulayınız.**\n",
    "* lst= [\"D\",\"A\",\"T\",\"A\",\"S\",\"C\",\"I\",\"E\",\"N\",\"C\",\"E\"]\n",
    "* Adım 1: Verilen listenin eleman sayısına bakınız.\n",
    "* Adım 2: Sıfırıncı ve onuncu indeksteki elemanları çağırınız.\n",
    "* Adım 3: Verilen liste üzerinden [\"D\", \"A\", \"T\", \"A\"] listesi oluşturunuz.\n",
    "* Adım 4: Sekizinci indeksteki elemanı siliniz.\n",
    "* Adım 5: Yeni bir eleman ekleyiniz.\n",
    "* Adım 6: Sekizinci indekse \"N\" elemanını tekrar ekleyiniz."
   ]
  },
  {
   "cell_type": "code",
   "execution_count": 12,
   "id": "2f97e570",
   "metadata": {
    "execution": {
     "iopub.execute_input": "2023-01-28T22:24:26.666884Z",
     "iopub.status.busy": "2023-01-28T22:24:26.666142Z",
     "iopub.status.idle": "2023-01-28T22:24:26.672225Z",
     "shell.execute_reply": "2023-01-28T22:24:26.670328Z"
    },
    "id": "gaIT68f6FC_i",
    "papermill": {
     "duration": 0.019764,
     "end_time": "2023-01-28T22:24:26.674818",
     "exception": false,
     "start_time": "2023-01-28T22:24:26.655054",
     "status": "completed"
    },
    "tags": []
   },
   "outputs": [],
   "source": [
    "lst= [\"D\",\"A\",\"T\",\"A\",\"S\",\"C\",\"I\",\"E\",\"N\",\"C\",\"E\"]"
   ]
  },
  {
   "cell_type": "code",
   "execution_count": 13,
   "id": "f566deed",
   "metadata": {
    "execution": {
     "iopub.execute_input": "2023-01-28T22:24:26.695979Z",
     "iopub.status.busy": "2023-01-28T22:24:26.695557Z",
     "iopub.status.idle": "2023-01-28T22:24:26.702712Z",
     "shell.execute_reply": "2023-01-28T22:24:26.701325Z"
    },
    "id": "2RP0bQY8FJhy",
    "outputId": "4ffb650d-81d6-40a7-c9ab-d65c0c20d2c5",
    "papermill": {
     "duration": 0.019414,
     "end_time": "2023-01-28T22:24:26.704591",
     "exception": false,
     "start_time": "2023-01-28T22:24:26.685177",
     "status": "completed"
    },
    "tags": []
   },
   "outputs": [
    {
     "data": {
      "text/plain": [
       "11"
      ]
     },
     "execution_count": 13,
     "metadata": {},
     "output_type": "execute_result"
    }
   ],
   "source": [
    "len(lst)"
   ]
  },
  {
   "cell_type": "code",
   "execution_count": 14,
   "id": "9dd16f22",
   "metadata": {
    "execution": {
     "iopub.execute_input": "2023-01-28T22:24:26.725550Z",
     "iopub.status.busy": "2023-01-28T22:24:26.725112Z",
     "iopub.status.idle": "2023-01-28T22:24:26.731777Z",
     "shell.execute_reply": "2023-01-28T22:24:26.730095Z"
    },
    "id": "w-valF3eFJoX",
    "outputId": "bc9ee40f-86c0-4b0c-f576-f8881b32ebcf",
    "papermill": {
     "duration": 0.019574,
     "end_time": "2023-01-28T22:24:26.733805",
     "exception": false,
     "start_time": "2023-01-28T22:24:26.714231",
     "status": "completed"
    },
    "tags": []
   },
   "outputs": [
    {
     "data": {
      "text/plain": [
       "['D', 'E']"
      ]
     },
     "execution_count": 14,
     "metadata": {},
     "output_type": "execute_result"
    }
   ],
   "source": [
    "[lst[0], lst[10]]"
   ]
  },
  {
   "cell_type": "code",
   "execution_count": 15,
   "id": "a6b1b4dd",
   "metadata": {
    "execution": {
     "iopub.execute_input": "2023-01-28T22:24:26.755014Z",
     "iopub.status.busy": "2023-01-28T22:24:26.754573Z",
     "iopub.status.idle": "2023-01-28T22:24:26.762729Z",
     "shell.execute_reply": "2023-01-28T22:24:26.761420Z"
    },
    "id": "5ghkgm-fFaGF",
    "outputId": "b8c1ffb6-9b66-4ff3-bd00-fc5e5c4cf66f",
    "papermill": {
     "duration": 0.02178,
     "end_time": "2023-01-28T22:24:26.765340",
     "exception": false,
     "start_time": "2023-01-28T22:24:26.743560",
     "status": "completed"
    },
    "tags": []
   },
   "outputs": [
    {
     "data": {
      "text/plain": [
       "['D', 'A', 'T', 'A']"
      ]
     },
     "execution_count": 15,
     "metadata": {},
     "output_type": "execute_result"
    }
   ],
   "source": [
    "lst[0:4]"
   ]
  },
  {
   "cell_type": "code",
   "execution_count": 16,
   "id": "f641c2d5",
   "metadata": {
    "execution": {
     "iopub.execute_input": "2023-01-28T22:24:26.787243Z",
     "iopub.status.busy": "2023-01-28T22:24:26.786837Z",
     "iopub.status.idle": "2023-01-28T22:24:26.792508Z",
     "shell.execute_reply": "2023-01-28T22:24:26.791642Z"
    },
    "id": "0QAMcRjlFx9Q",
    "outputId": "897037f3-6da9-4414-d7b3-9b9d766aa07f",
    "papermill": {
     "duration": 0.018966,
     "end_time": "2023-01-28T22:24:26.794378",
     "exception": false,
     "start_time": "2023-01-28T22:24:26.775412",
     "status": "completed"
    },
    "tags": []
   },
   "outputs": [
    {
     "data": {
      "text/plain": [
       "['D', 'A', 'T', 'A', 'S', 'C', 'I', 'E', 'C', 'E']"
      ]
     },
     "execution_count": 16,
     "metadata": {},
     "output_type": "execute_result"
    }
   ],
   "source": [
    "lst.pop(8)\n",
    "lst"
   ]
  },
  {
   "cell_type": "code",
   "execution_count": 17,
   "id": "8504c4c4",
   "metadata": {
    "execution": {
     "iopub.execute_input": "2023-01-28T22:24:26.817730Z",
     "iopub.status.busy": "2023-01-28T22:24:26.817338Z",
     "iopub.status.idle": "2023-01-28T22:24:26.822985Z",
     "shell.execute_reply": "2023-01-28T22:24:26.822123Z"
    },
    "id": "Lth5pjDDGQXJ",
    "outputId": "e6923d9b-48dd-45d3-a345-d6283b54df13",
    "papermill": {
     "duration": 0.02018,
     "end_time": "2023-01-28T22:24:26.825159",
     "exception": false,
     "start_time": "2023-01-28T22:24:26.804979",
     "status": "completed"
    },
    "tags": []
   },
   "outputs": [
    {
     "data": {
      "text/plain": [
       "['D', 'A', 'T', 'A', 'S', 'C', 'I', 'E', 'C', 'E', 20]"
      ]
     },
     "execution_count": 17,
     "metadata": {},
     "output_type": "execute_result"
    }
   ],
   "source": [
    "lst.append(20)\n",
    "lst"
   ]
  },
  {
   "cell_type": "code",
   "execution_count": 18,
   "id": "66def58b",
   "metadata": {
    "execution": {
     "iopub.execute_input": "2023-01-28T22:24:26.847972Z",
     "iopub.status.busy": "2023-01-28T22:24:26.847547Z",
     "iopub.status.idle": "2023-01-28T22:24:26.854812Z",
     "shell.execute_reply": "2023-01-28T22:24:26.853860Z"
    },
    "id": "arn0hfT9Gk08",
    "outputId": "5018372f-aeff-4b71-cdd6-05b5be748c70",
    "papermill": {
     "duration": 0.02097,
     "end_time": "2023-01-28T22:24:26.856652",
     "exception": false,
     "start_time": "2023-01-28T22:24:26.835682",
     "status": "completed"
    },
    "tags": []
   },
   "outputs": [
    {
     "data": {
      "text/plain": [
       "['D', 'A', 'T', 'A', 'S', 'C', 'I', 'E', 'N', 'C', 'E', 20]"
      ]
     },
     "execution_count": 18,
     "metadata": {},
     "output_type": "execute_result"
    }
   ],
   "source": [
    "lst.insert(8, \"N\")\n",
    "lst"
   ]
  },
  {
   "cell_type": "markdown",
   "id": "a6fc54a7",
   "metadata": {
    "id": "QvP_sbrN70nh",
    "papermill": {
     "duration": 0.010253,
     "end_time": "2023-01-28T22:24:26.877489",
     "exception": false,
     "start_time": "2023-01-28T22:24:26.867236",
     "status": "completed"
    },
    "tags": []
   },
   "source": [
    "**Görev 4: Verilen sözlük yapısına aşağıdaki adımları uygulayınız.**\n",
    "* dict={'Cristian': [\"America\", 18], 'Daisy': [\"England\", 12], 'Antonio': [\"Spain\", 22], 'Dante': [\"Italy\", 25]}\n",
    "\n",
    "* Adım 1: Key değerlerine erişiniz.\n",
    "* Adım 2: Value'lara erişiniz.\n",
    "* Adım 3: Daisy key'ine ait 12 değerini 13 olarak güncelleyiniz.\n",
    "* Adım 4: Key değeri Ahmet value değeri [Turkey,24] olan yeni bir değer ekleyiniz.\n",
    "* Adım 5: Antonio'yu dictionary'den siliniz.\n"
   ]
  },
  {
   "cell_type": "code",
   "execution_count": 19,
   "id": "140a7b7d",
   "metadata": {
    "execution": {
     "iopub.execute_input": "2023-01-28T22:24:26.900968Z",
     "iopub.status.busy": "2023-01-28T22:24:26.900511Z",
     "iopub.status.idle": "2023-01-28T22:24:26.906162Z",
     "shell.execute_reply": "2023-01-28T22:24:26.904829Z"
    },
    "id": "RR90HVpOHrd2",
    "papermill": {
     "duration": 0.020959,
     "end_time": "2023-01-28T22:24:26.909036",
     "exception": false,
     "start_time": "2023-01-28T22:24:26.888077",
     "status": "completed"
    },
    "tags": []
   },
   "outputs": [],
   "source": [
    "dict={'Cristian': [\"America\", 18], 'Daisy': [\"England\", 12], 'Antonio': [\"Spain\", 22], 'Dante': [\"Italy\", 25]}"
   ]
  },
  {
   "cell_type": "code",
   "execution_count": 20,
   "id": "3532ca36",
   "metadata": {
    "execution": {
     "iopub.execute_input": "2023-01-28T22:24:26.932647Z",
     "iopub.status.busy": "2023-01-28T22:24:26.932267Z",
     "iopub.status.idle": "2023-01-28T22:24:26.938421Z",
     "shell.execute_reply": "2023-01-28T22:24:26.936845Z"
    },
    "id": "1YyMy_xVH1lh",
    "outputId": "1f0e85af-2a3f-4876-e1bf-6babc4ce0eb1",
    "papermill": {
     "duration": 0.020185,
     "end_time": "2023-01-28T22:24:26.940560",
     "exception": false,
     "start_time": "2023-01-28T22:24:26.920375",
     "status": "completed"
    },
    "tags": []
   },
   "outputs": [
    {
     "data": {
      "text/plain": [
       "dict_keys(['Cristian', 'Daisy', 'Antonio', 'Dante'])"
      ]
     },
     "execution_count": 20,
     "metadata": {},
     "output_type": "execute_result"
    }
   ],
   "source": [
    "dict.keys()"
   ]
  },
  {
   "cell_type": "code",
   "execution_count": 21,
   "id": "197a30df",
   "metadata": {
    "execution": {
     "iopub.execute_input": "2023-01-28T22:24:26.963578Z",
     "iopub.status.busy": "2023-01-28T22:24:26.963189Z",
     "iopub.status.idle": "2023-01-28T22:24:26.970259Z",
     "shell.execute_reply": "2023-01-28T22:24:26.969252Z"
    },
    "id": "6WEmwj8yH2MW",
    "outputId": "fb06876b-ae98-4672-b4d3-6a893132e2fe",
    "papermill": {
     "duration": 0.020955,
     "end_time": "2023-01-28T22:24:26.972293",
     "exception": false,
     "start_time": "2023-01-28T22:24:26.951338",
     "status": "completed"
    },
    "tags": []
   },
   "outputs": [
    {
     "data": {
      "text/plain": [
       "dict_values([['America', 18], ['England', 12], ['Spain', 22], ['Italy', 25]])"
      ]
     },
     "execution_count": 21,
     "metadata": {},
     "output_type": "execute_result"
    }
   ],
   "source": [
    "dict.values()"
   ]
  },
  {
   "cell_type": "code",
   "execution_count": 22,
   "id": "a38900f2",
   "metadata": {
    "execution": {
     "iopub.execute_input": "2023-01-28T22:24:26.996187Z",
     "iopub.status.busy": "2023-01-28T22:24:26.995768Z",
     "iopub.status.idle": "2023-01-28T22:24:27.002188Z",
     "shell.execute_reply": "2023-01-28T22:24:27.001155Z"
    },
    "id": "f4IWmuhXH6nI",
    "outputId": "c4db37e7-60df-4edb-be55-1ce3b9e31b02",
    "papermill": {
     "duration": 0.021482,
     "end_time": "2023-01-28T22:24:27.004708",
     "exception": false,
     "start_time": "2023-01-28T22:24:26.983226",
     "status": "completed"
    },
    "tags": []
   },
   "outputs": [
    {
     "data": {
      "text/plain": [
       "{'Cristian': ['America', 18],\n",
       " 'Daisy': ['England', 13],\n",
       " 'Antonio': ['Spain', 22],\n",
       " 'Dante': ['Italy', 25]}"
      ]
     },
     "execution_count": 22,
     "metadata": {},
     "output_type": "execute_result"
    }
   ],
   "source": [
    "dict.update({'Daisy': [\"England\", 13]})\n",
    "dict"
   ]
  },
  {
   "cell_type": "code",
   "execution_count": 23,
   "id": "741ac1b9",
   "metadata": {
    "execution": {
     "iopub.execute_input": "2023-01-28T22:24:27.028959Z",
     "iopub.status.busy": "2023-01-28T22:24:27.028518Z",
     "iopub.status.idle": "2023-01-28T22:24:27.035846Z",
     "shell.execute_reply": "2023-01-28T22:24:27.034360Z"
    },
    "id": "bixBJM0AIk4k",
    "outputId": "0d16e73d-eb5f-482b-d28f-74e0ca458858",
    "papermill": {
     "duration": 0.02186,
     "end_time": "2023-01-28T22:24:27.037967",
     "exception": false,
     "start_time": "2023-01-28T22:24:27.016107",
     "status": "completed"
    },
    "tags": []
   },
   "outputs": [
    {
     "data": {
      "text/plain": [
       "{'Cristian': ['America', 18],\n",
       " 'Daisy': ['England', 13],\n",
       " 'Antonio': ['Spain', 22],\n",
       " 'Dante': ['Italy', 25],\n",
       " 'Ahmet': ['Turkey', 24]}"
      ]
     },
     "execution_count": 23,
     "metadata": {},
     "output_type": "execute_result"
    }
   ],
   "source": [
    "dict.update({'Ahmet':[\"Turkey\",24]})\n",
    "dict"
   ]
  },
  {
   "cell_type": "code",
   "execution_count": 24,
   "id": "92441ff5",
   "metadata": {
    "execution": {
     "iopub.execute_input": "2023-01-28T22:24:27.062041Z",
     "iopub.status.busy": "2023-01-28T22:24:27.061625Z",
     "iopub.status.idle": "2023-01-28T22:24:27.066306Z",
     "shell.execute_reply": "2023-01-28T22:24:27.064776Z"
    },
    "id": "CTIMhF36RnIg",
    "papermill": {
     "duration": 0.020142,
     "end_time": "2023-01-28T22:24:27.069271",
     "exception": false,
     "start_time": "2023-01-28T22:24:27.049129",
     "status": "completed"
    },
    "tags": []
   },
   "outputs": [],
   "source": [
    "del dict['Antonio']"
   ]
  },
  {
   "cell_type": "code",
   "execution_count": 25,
   "id": "c8f1677b",
   "metadata": {
    "execution": {
     "iopub.execute_input": "2023-01-28T22:24:27.093941Z",
     "iopub.status.busy": "2023-01-28T22:24:27.093490Z",
     "iopub.status.idle": "2023-01-28T22:24:27.100500Z",
     "shell.execute_reply": "2023-01-28T22:24:27.099063Z"
    },
    "id": "c7UFxeCDSoxj",
    "outputId": "e9ad88ee-4e36-4a03-c246-0a2ff3ccde79",
    "papermill": {
     "duration": 0.022163,
     "end_time": "2023-01-28T22:24:27.102873",
     "exception": false,
     "start_time": "2023-01-28T22:24:27.080710",
     "status": "completed"
    },
    "tags": []
   },
   "outputs": [
    {
     "data": {
      "text/plain": [
       "{'Cristian': ['America', 18],\n",
       " 'Daisy': ['England', 13],\n",
       " 'Dante': ['Italy', 25],\n",
       " 'Ahmet': ['Turkey', 24]}"
      ]
     },
     "execution_count": 25,
     "metadata": {},
     "output_type": "execute_result"
    }
   ],
   "source": [
    "dict"
   ]
  },
  {
   "cell_type": "markdown",
   "id": "86c49f07",
   "metadata": {
    "id": "zBnbn0xb-UY4",
    "papermill": {
     "duration": 0.0111,
     "end_time": "2023-01-28T22:24:27.125474",
     "exception": false,
     "start_time": "2023-01-28T22:24:27.114374",
     "status": "completed"
    },
    "tags": []
   },
   "source": [
    "**Görev 5: Argüman olarak bir liste alan, listenin içerisindeki tek ve çift sayıları ayrı listelere atayan ve bu listeleri return eden fonksiyon yazınız.**\n",
    "* l= [2,13,18,93,22]\n",
    "\n",
    "\n",
    "\n",
    "\n",
    "\n",
    "\n",
    "\n",
    "\n"
   ]
  },
  {
   "cell_type": "code",
   "execution_count": 26,
   "id": "a417c1a7",
   "metadata": {
    "execution": {
     "iopub.execute_input": "2023-01-28T22:24:27.150176Z",
     "iopub.status.busy": "2023-01-28T22:24:27.149746Z",
     "iopub.status.idle": "2023-01-28T22:24:27.154659Z",
     "shell.execute_reply": "2023-01-28T22:24:27.153438Z"
    },
    "id": "zMdPSDWbJC3l",
    "papermill": {
     "duration": 0.0196,
     "end_time": "2023-01-28T22:24:27.156655",
     "exception": false,
     "start_time": "2023-01-28T22:24:27.137055",
     "status": "completed"
    },
    "tags": []
   },
   "outputs": [],
   "source": [
    "lst= [2,13,18,93,22]"
   ]
  },
  {
   "cell_type": "code",
   "execution_count": 27,
   "id": "561ad232",
   "metadata": {
    "execution": {
     "iopub.execute_input": "2023-01-28T22:24:27.181008Z",
     "iopub.status.busy": "2023-01-28T22:24:27.180594Z",
     "iopub.status.idle": "2023-01-28T22:24:27.186024Z",
     "shell.execute_reply": "2023-01-28T22:24:27.185167Z"
    },
    "id": "-WKSOzocRYK2",
    "papermill": {
     "duration": 0.019589,
     "end_time": "2023-01-28T22:24:27.187704",
     "exception": false,
     "start_time": "2023-01-28T22:24:27.168115",
     "status": "completed"
    },
    "tags": []
   },
   "outputs": [],
   "source": [
    "def tek_cift_sayilar(liste):\n",
    "   cift_sayi=[]\n",
    "   tek_sayi=[]\n",
    "   for x in liste:\n",
    "     if x % 2 == 0:\n",
    "      cift_sayi.append(x)\n",
    "     else:\n",
    "      tek_sayi.append(x)\n",
    "   return tek_sayi, cift_sayi\n"
   ]
  },
  {
   "cell_type": "code",
   "execution_count": 28,
   "id": "9134edfa",
   "metadata": {
    "execution": {
     "iopub.execute_input": "2023-01-28T22:24:27.213247Z",
     "iopub.status.busy": "2023-01-28T22:24:27.212873Z",
     "iopub.status.idle": "2023-01-28T22:24:27.216644Z",
     "shell.execute_reply": "2023-01-28T22:24:27.215839Z"
    },
    "id": "aVFYHhQkTAYn",
    "papermill": {
     "duration": 0.019365,
     "end_time": "2023-01-28T22:24:27.218512",
     "exception": false,
     "start_time": "2023-01-28T22:24:27.199147",
     "status": "completed"
    },
    "tags": []
   },
   "outputs": [],
   "source": [
    "tek, cift=tek_cift_sayilar(lst)"
   ]
  },
  {
   "cell_type": "code",
   "execution_count": 29,
   "id": "942e1410",
   "metadata": {
    "execution": {
     "iopub.execute_input": "2023-01-28T22:24:27.242632Z",
     "iopub.status.busy": "2023-01-28T22:24:27.242250Z",
     "iopub.status.idle": "2023-01-28T22:24:27.247312Z",
     "shell.execute_reply": "2023-01-28T22:24:27.246621Z"
    },
    "id": "fpxpI0dnVeGc",
    "outputId": "cd8ddcd6-c4eb-4abc-9fff-e2ea0ca63bca",
    "papermill": {
     "duration": 0.01951,
     "end_time": "2023-01-28T22:24:27.249160",
     "exception": false,
     "start_time": "2023-01-28T22:24:27.229650",
     "status": "completed"
    },
    "tags": []
   },
   "outputs": [
    {
     "data": {
      "text/plain": [
       "[2, 18, 22]"
      ]
     },
     "execution_count": 29,
     "metadata": {},
     "output_type": "execute_result"
    }
   ],
   "source": [
    "cift"
   ]
  },
  {
   "cell_type": "code",
   "execution_count": 30,
   "id": "eb20be70",
   "metadata": {
    "execution": {
     "iopub.execute_input": "2023-01-28T22:24:27.274658Z",
     "iopub.status.busy": "2023-01-28T22:24:27.274004Z",
     "iopub.status.idle": "2023-01-28T22:24:27.278963Z",
     "shell.execute_reply": "2023-01-28T22:24:27.278324Z"
    },
    "id": "X1gzmWOAVhWE",
    "outputId": "f4f973af-901f-4cd9-bd5e-3531a986fc8d",
    "papermill": {
     "duration": 0.019681,
     "end_time": "2023-01-28T22:24:27.280642",
     "exception": false,
     "start_time": "2023-01-28T22:24:27.260961",
     "status": "completed"
    },
    "tags": []
   },
   "outputs": [
    {
     "data": {
      "text/plain": [
       "[13, 93]"
      ]
     },
     "execution_count": 30,
     "metadata": {},
     "output_type": "execute_result"
    }
   ],
   "source": [
    "tek"
   ]
  },
  {
   "cell_type": "markdown",
   "id": "0579d9d7",
   "metadata": {
    "id": "Gcp_hSEx_i6N",
    "papermill": {
     "duration": 0.011575,
     "end_time": "2023-01-28T22:24:27.304077",
     "exception": false,
     "start_time": "2023-01-28T22:24:27.292502",
     "status": "completed"
    },
    "tags": []
   },
   "source": [
    "**Görev 6: Aşağıda verilen listede mühendislik ve tıp fakülterinde dereceye giren öğrencilerin isimleri\n",
    "bulunmaktadır. Sırasıyla ilk üç öğrenci mühendislik fakültesinin başarı sırasını temsil ederken son üç öğrenci de\n",
    "tıp fakültesi öğrenci sırasına aittir. Enumarate kullanarak öğrenci derecelerini fakülte özelinde yazdırınız.**\n",
    "* ogrenciler= [\"Ali\", \"Veli\", \"Ayşe\", \"Talat\", \"Zeynep\", \"Ece\"]"
   ]
  },
  {
   "cell_type": "code",
   "execution_count": 31,
   "id": "1d7a02ac",
   "metadata": {
    "execution": {
     "iopub.execute_input": "2023-01-28T22:24:27.330828Z",
     "iopub.status.busy": "2023-01-28T22:24:27.330169Z",
     "iopub.status.idle": "2023-01-28T22:24:27.338720Z",
     "shell.execute_reply": "2023-01-28T22:24:27.337242Z"
    },
    "id": "WWvgIyXDJlYx",
    "papermill": {
     "duration": 0.024725,
     "end_time": "2023-01-28T22:24:27.341079",
     "exception": false,
     "start_time": "2023-01-28T22:24:27.316354",
     "status": "completed"
    },
    "tags": []
   },
   "outputs": [],
   "source": [
    "ogrenciler= [\"Ali\", \"Veli\", \"Ayşe\", \"Talat\", \"Zeynep\", \"Ece\"]\n",
    "muh_fak=[]\n",
    "tıp_fak=[]\n",
    "for indeks, ogrenci in enumerate(ogrenciler):\n",
    "  if indeks<=2:\n",
    "    muh_fak.append(ogrenci)\n",
    "  else:\n",
    "    tıp_fak.append(ogrenci)\n"
   ]
  },
  {
   "cell_type": "code",
   "execution_count": 32,
   "id": "13a9ce88",
   "metadata": {
    "execution": {
     "iopub.execute_input": "2023-01-28T22:24:27.365987Z",
     "iopub.status.busy": "2023-01-28T22:24:27.365359Z",
     "iopub.status.idle": "2023-01-28T22:24:27.371761Z",
     "shell.execute_reply": "2023-01-28T22:24:27.370813Z"
    },
    "id": "LfO8oerkYMeU",
    "outputId": "2be168f5-c607-49eb-fbfb-2f28da330f34",
    "papermill": {
     "duration": 0.021964,
     "end_time": "2023-01-28T22:24:27.374543",
     "exception": false,
     "start_time": "2023-01-28T22:24:27.352579",
     "status": "completed"
    },
    "tags": []
   },
   "outputs": [
    {
     "data": {
      "text/plain": [
       "['Ali', 'Veli', 'Ayşe']"
      ]
     },
     "execution_count": 32,
     "metadata": {},
     "output_type": "execute_result"
    }
   ],
   "source": [
    "muh_fak"
   ]
  },
  {
   "cell_type": "code",
   "execution_count": 33,
   "id": "4648d7db",
   "metadata": {
    "execution": {
     "iopub.execute_input": "2023-01-28T22:24:27.401471Z",
     "iopub.status.busy": "2023-01-28T22:24:27.400494Z",
     "iopub.status.idle": "2023-01-28T22:24:27.407689Z",
     "shell.execute_reply": "2023-01-28T22:24:27.406556Z"
    },
    "id": "ad37S43JYS2G",
    "outputId": "0e327700-2555-4c78-9f78-bf4e5ed8e3dc",
    "papermill": {
     "duration": 0.022775,
     "end_time": "2023-01-28T22:24:27.410073",
     "exception": false,
     "start_time": "2023-01-28T22:24:27.387298",
     "status": "completed"
    },
    "tags": []
   },
   "outputs": [
    {
     "data": {
      "text/plain": [
       "['Talat', 'Zeynep', 'Ece']"
      ]
     },
     "execution_count": 33,
     "metadata": {},
     "output_type": "execute_result"
    }
   ],
   "source": [
    "tıp_fak"
   ]
  },
  {
   "cell_type": "markdown",
   "id": "88c891e1",
   "metadata": {
    "id": "uOEsg4Oc_9ZM",
    "papermill": {
     "duration": 0.011337,
     "end_time": "2023-01-28T22:24:27.433651",
     "exception": false,
     "start_time": "2023-01-28T22:24:27.422314",
     "status": "completed"
    },
    "tags": []
   },
   "source": [
    "**Görev 7: Aşağıda 3 adet liste verilmiştir. Listelerde sırası ile bir dersin kodu, kredisi ve kontenjan bilgileri yer\n",
    "almaktadır. Zip kullanarak ders bilgilerini bastırınız.**\n",
    "* ders_kodu=[\"CMP1005\", \"PYS1001\", \"HUK1005\", \"SEN2204\"]\n",
    "* kredi=[3,4,2,4]\n",
    "* kontenjan=[30,75,150,25]"
   ]
  },
  {
   "cell_type": "code",
   "execution_count": 34,
   "id": "68107401",
   "metadata": {
    "execution": {
     "iopub.execute_input": "2023-01-28T22:24:27.458825Z",
     "iopub.status.busy": "2023-01-28T22:24:27.458478Z",
     "iopub.status.idle": "2023-01-28T22:24:27.464260Z",
     "shell.execute_reply": "2023-01-28T22:24:27.462998Z"
    },
    "id": "j_c7xHj2YyRQ",
    "papermill": {
     "duration": 0.02062,
     "end_time": "2023-01-28T22:24:27.466289",
     "exception": false,
     "start_time": "2023-01-28T22:24:27.445669",
     "status": "completed"
    },
    "tags": []
   },
   "outputs": [],
   "source": [
    "ders_kodu=[\"CMP1005\", \"PYS1001\", \"HUK1005\", \"SEN2204\"]\n",
    "kredi=[3,4,2,4]\n",
    "kontenjan=[30,75,150,25]"
   ]
  },
  {
   "cell_type": "code",
   "execution_count": 35,
   "id": "9c76c8f3",
   "metadata": {
    "execution": {
     "iopub.execute_input": "2023-01-28T22:24:27.491531Z",
     "iopub.status.busy": "2023-01-28T22:24:27.491144Z",
     "iopub.status.idle": "2023-01-28T22:24:27.498456Z",
     "shell.execute_reply": "2023-01-28T22:24:27.497283Z"
    },
    "id": "zoldtPZLYkxv",
    "outputId": "160a67d7-1dd7-41b6-833d-4beb4393cece",
    "papermill": {
     "duration": 0.02213,
     "end_time": "2023-01-28T22:24:27.500333",
     "exception": false,
     "start_time": "2023-01-28T22:24:27.478203",
     "status": "completed"
    },
    "tags": []
   },
   "outputs": [
    {
     "data": {
      "text/plain": [
       "[('CMP1005', 3, 30),\n",
       " ('PYS1001', 4, 75),\n",
       " ('HUK1005', 2, 150),\n",
       " ('SEN2204', 4, 25)]"
      ]
     },
     "execution_count": 35,
     "metadata": {},
     "output_type": "execute_result"
    }
   ],
   "source": [
    "list(zip(ders_kodu,kredi,kontenjan))"
   ]
  },
  {
   "cell_type": "markdown",
   "id": "032355dc",
   "metadata": {
    "id": "wvMJoMH4A3r0",
    "papermill": {
     "duration": 0.011747,
     "end_time": "2023-01-28T22:24:27.524382",
     "exception": false,
     "start_time": "2023-01-28T22:24:27.512635",
     "status": "completed"
    },
    "tags": []
   },
   "source": [
    "**Görev 8: Aşağıda 2 adet set verilmiştir. Sizden istenilen eğer 1. küme 2. kümeyi kapsiyor ise ortak elemanlarını eğer kapsamıyor ise 2. kümenin 1. kümeden farkını yazdıracak fonksiyonu tanımlamanız beklenmektedir.**\n",
    "* kume1= set([\"data\", \"python\"])\n",
    "* kume2= set([\"data\", \"function\", \"qcut\", \"lambda\",\"python\",\"miuul\"])"
   ]
  },
  {
   "cell_type": "code",
   "execution_count": 36,
   "id": "dcfb7c44",
   "metadata": {
    "execution": {
     "iopub.execute_input": "2023-01-28T22:24:27.551495Z",
     "iopub.status.busy": "2023-01-28T22:24:27.550357Z",
     "iopub.status.idle": "2023-01-28T22:24:27.556142Z",
     "shell.execute_reply": "2023-01-28T22:24:27.554850Z"
    },
    "id": "Q2Rbr5WwY3MB",
    "papermill": {
     "duration": 0.021641,
     "end_time": "2023-01-28T22:24:27.558199",
     "exception": false,
     "start_time": "2023-01-28T22:24:27.536558",
     "status": "completed"
    },
    "tags": []
   },
   "outputs": [],
   "source": [
    "kume1= set([\"data\", \"python\"])\n",
    "kume2= set([\"data\", \"function\", \"qcut\", \"lambda\",\"python\",\"miuul\"])"
   ]
  },
  {
   "cell_type": "code",
   "execution_count": 37,
   "id": "51d9d2fc",
   "metadata": {
    "execution": {
     "iopub.execute_input": "2023-01-28T22:24:27.584249Z",
     "iopub.status.busy": "2023-01-28T22:24:27.583848Z",
     "iopub.status.idle": "2023-01-28T22:24:27.588982Z",
     "shell.execute_reply": "2023-01-28T22:24:27.587979Z"
    },
    "id": "UkdpTQE-ZYPu",
    "papermill": {
     "duration": 0.02146,
     "end_time": "2023-01-28T22:24:27.591983",
     "exception": false,
     "start_time": "2023-01-28T22:24:27.570523",
     "status": "completed"
    },
    "tags": []
   },
   "outputs": [],
   "source": [
    "def fonk(set1,set2):\n",
    "  if set1.issuperset(set2)==True:\n",
    "    print(set1.intersection(set2))\n",
    "  else:\n",
    "    print(set2.difference(set1))\n"
   ]
  },
  {
   "cell_type": "code",
   "execution_count": 38,
   "id": "1bff0a63",
   "metadata": {
    "execution": {
     "iopub.execute_input": "2023-01-28T22:24:27.619557Z",
     "iopub.status.busy": "2023-01-28T22:24:27.619204Z",
     "iopub.status.idle": "2023-01-28T22:24:27.625500Z",
     "shell.execute_reply": "2023-01-28T22:24:27.623796Z"
    },
    "id": "IL8WL83QafDU",
    "outputId": "7e44db1a-1d96-47b6-b64a-dabfbfa168c3",
    "papermill": {
     "duration": 0.021937,
     "end_time": "2023-01-28T22:24:27.627293",
     "exception": false,
     "start_time": "2023-01-28T22:24:27.605356",
     "status": "completed"
    },
    "tags": []
   },
   "outputs": [
    {
     "name": "stdout",
     "output_type": "stream",
     "text": [
      "{'function', 'miuul', 'lambda', 'qcut'}\n"
     ]
    }
   ],
   "source": [
    "fonk(kume1,kume2)"
   ]
  },
  {
   "cell_type": "code",
   "execution_count": null,
   "id": "68b121a4",
   "metadata": {
    "id": "jA9qAnADajPP",
    "papermill": {
     "duration": 0.011753,
     "end_time": "2023-01-28T22:24:27.651354",
     "exception": false,
     "start_time": "2023-01-28T22:24:27.639601",
     "status": "completed"
    },
    "tags": []
   },
   "outputs": [],
   "source": []
  }
 ],
 "metadata": {
  "kernelspec": {
   "display_name": "Python 3",
   "language": "python",
   "name": "python3"
  },
  "language_info": {
   "codemirror_mode": {
    "name": "ipython",
    "version": 3
   },
   "file_extension": ".py",
   "mimetype": "text/x-python",
   "name": "python",
   "nbconvert_exporter": "python",
   "pygments_lexer": "ipython3",
   "version": "3.7.12"
  },
  "papermill": {
   "default_parameters": {},
   "duration": 9.978377,
   "end_time": "2023-01-28T22:24:28.385496",
   "environment_variables": {},
   "exception": null,
   "input_path": "__notebook__.ipynb",
   "output_path": "__notebook__.ipynb",
   "parameters": {},
   "start_time": "2023-01-28T22:24:18.407119",
   "version": "2.3.4"
  }
 },
 "nbformat": 4,
 "nbformat_minor": 5
}
