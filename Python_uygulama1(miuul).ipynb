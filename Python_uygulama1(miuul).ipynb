{
  "nbformat": 4,
  "nbformat_minor": 0,
  "metadata": {
    "colab": {
      "provenance": [],
      "authorship_tag": "ABX9TyMIZ6LvPcKZidD3zoSd2ukX"
    },
    "kernelspec": {
      "name": "python3",
      "display_name": "Python 3"
    },
    "language_info": {
      "name": "python"
    }
  },
  "cells": [
    {
      "cell_type": "markdown",
      "source": [
        "**Görev 1: Verilen değerlerin veri yapılarını inceleyiniz.**\n",
        "\n",
        "*   x=8\n",
        "*  y=3.2\n",
        "* z=8j+18\n",
        "* a=\"Hello World\"\n",
        "* b=True\n",
        "* c=23<22\n",
        "* l=[1, 2, 3, 4]\n",
        "* d={\"Name\": \"Jake\", \"Age\":27, \"Adress\":\"Downtown\"}\n",
        "* t=(\"Machine Learning\", \"Data Science\")\n",
        "* s={\"Python\", \"Machine Learning\", \"Data Science\"}\n",
        "\n",
        "\n",
        "\n",
        "\n"
      ],
      "metadata": {
        "id": "TNgThdDR3ZLp"
      }
    },
    {
      "cell_type": "code",
      "source": [
        "x=8\n",
        "type(x)\n"
      ],
      "metadata": {
        "colab": {
          "base_uri": "https://localhost:8080/"
        },
        "id": "c1A2Y9yvDUPQ",
        "outputId": "55832f47-d156-40c5-8bdb-9491ee6d7e8a"
      },
      "execution_count": null,
      "outputs": [
        {
          "output_type": "execute_result",
          "data": {
            "text/plain": [
              "int"
            ]
          },
          "metadata": {},
          "execution_count": 1
        }
      ]
    },
    {
      "cell_type": "code",
      "source": [
        "y=3.2\n",
        "type(y)\n"
      ],
      "metadata": {
        "colab": {
          "base_uri": "https://localhost:8080/"
        },
        "id": "Fj6k87RZDgJd",
        "outputId": "1d35676b-1f8f-4107-bb89-e4a3e815779f"
      },
      "execution_count": null,
      "outputs": [
        {
          "output_type": "execute_result",
          "data": {
            "text/plain": [
              "float"
            ]
          },
          "metadata": {},
          "execution_count": 2
        }
      ]
    },
    {
      "cell_type": "code",
      "source": [
        "z=8j+18\n",
        "type(z)"
      ],
      "metadata": {
        "colab": {
          "base_uri": "https://localhost:8080/"
        },
        "id": "01OVWdafDi4o",
        "outputId": "8381b981-c176-46f3-ddd0-445b98740efd"
      },
      "execution_count": null,
      "outputs": [
        {
          "output_type": "execute_result",
          "data": {
            "text/plain": [
              "complex"
            ]
          },
          "metadata": {},
          "execution_count": 3
        }
      ]
    },
    {
      "cell_type": "code",
      "source": [
        "a=\"Hello World\"\n",
        "type(a)"
      ],
      "metadata": {
        "colab": {
          "base_uri": "https://localhost:8080/"
        },
        "id": "_sn8gU70DjEV",
        "outputId": "07e84602-2f31-4333-ac13-64cafc2ce559"
      },
      "execution_count": null,
      "outputs": [
        {
          "output_type": "execute_result",
          "data": {
            "text/plain": [
              "str"
            ]
          },
          "metadata": {},
          "execution_count": 4
        }
      ]
    },
    {
      "cell_type": "code",
      "source": [
        "b=True\n",
        "type(b)"
      ],
      "metadata": {
        "colab": {
          "base_uri": "https://localhost:8080/"
        },
        "id": "iqdPiSMGDjP0",
        "outputId": "841355b6-44e0-413a-fbe0-87625acb1df5"
      },
      "execution_count": null,
      "outputs": [
        {
          "output_type": "execute_result",
          "data": {
            "text/plain": [
              "bool"
            ]
          },
          "metadata": {},
          "execution_count": 5
        }
      ]
    },
    {
      "cell_type": "code",
      "source": [
        "c=23<22\n",
        "type(c)"
      ],
      "metadata": {
        "colab": {
          "base_uri": "https://localhost:8080/"
        },
        "id": "RHQgP5KzDjbm",
        "outputId": "cf1c1c14-6a16-4765-c548-daa23cb1baf3"
      },
      "execution_count": null,
      "outputs": [
        {
          "output_type": "execute_result",
          "data": {
            "text/plain": [
              "bool"
            ]
          },
          "metadata": {},
          "execution_count": 6
        }
      ]
    },
    {
      "cell_type": "code",
      "source": [
        "l=[1, 2, 3, 4]\n",
        "type(l)\n"
      ],
      "metadata": {
        "colab": {
          "base_uri": "https://localhost:8080/"
        },
        "id": "nq8zl04TDjm8",
        "outputId": "88ff4084-e4ee-47eb-822c-76ddf4bca8ec"
      },
      "execution_count": null,
      "outputs": [
        {
          "output_type": "execute_result",
          "data": {
            "text/plain": [
              "list"
            ]
          },
          "metadata": {},
          "execution_count": 7
        }
      ]
    },
    {
      "cell_type": "code",
      "source": [
        "d={\"Name\": \"Jake\", \"Age\":27, \"Adress\":\"Downtown\"}\n",
        "type(d)"
      ],
      "metadata": {
        "colab": {
          "base_uri": "https://localhost:8080/"
        },
        "id": "lrk8y_ySDjyL",
        "outputId": "59fdc244-1db1-48ae-b4b8-49204edb53de"
      },
      "execution_count": null,
      "outputs": [
        {
          "output_type": "execute_result",
          "data": {
            "text/plain": [
              "dict"
            ]
          },
          "metadata": {},
          "execution_count": 8
        }
      ]
    },
    {
      "cell_type": "code",
      "source": [
        "t=(\"Machine Learning\", \"Data Science\")\n",
        "type(t)"
      ],
      "metadata": {
        "colab": {
          "base_uri": "https://localhost:8080/"
        },
        "id": "tnJGC04-Dj8m",
        "outputId": "512a9b9d-9020-4378-be0a-5acccad23025"
      },
      "execution_count": null,
      "outputs": [
        {
          "output_type": "execute_result",
          "data": {
            "text/plain": [
              "tuple"
            ]
          },
          "metadata": {},
          "execution_count": 9
        }
      ]
    },
    {
      "cell_type": "code",
      "source": [
        "s={\"Python\", \"Machine Learning\", \"Data Science\"}\n",
        "type(s)"
      ],
      "metadata": {
        "colab": {
          "base_uri": "https://localhost:8080/"
        },
        "id": "o__k4sriDkHo",
        "outputId": "4d694d92-ab59-408d-9597-e3c6d74fcb0b"
      },
      "execution_count": null,
      "outputs": [
        {
          "output_type": "execute_result",
          "data": {
            "text/plain": [
              "set"
            ]
          },
          "metadata": {},
          "execution_count": 10
        }
      ]
    },
    {
      "cell_type": "markdown",
      "source": [
        "**Görev 2: Verilen string ifadenin tüm harflerini büyük harfe çeviriniz. Virgül ve nokta yerine space koyunuz,\n",
        "kelime kelime ayırınız.**\n",
        "* text= \"The goal is to turn data into information, and information into insight.\"\n",
        "* **beklenen çıktı**\n",
        "['THE','GOAL','IS','TO','TURN','DATA','INTO','INFORMATION','AND','INFORMATION','INTO','INSIGHT']\n",
        "\n"
      ],
      "metadata": {
        "id": "YpkbpEMd5Wtd"
      }
    },
    {
      "cell_type": "code",
      "source": [
        "text= \"The goal is to turn data into information, and information into insight.\"\n",
        "text=text.upper()\n",
        "text.split()"
      ],
      "metadata": {
        "colab": {
          "base_uri": "https://localhost:8080/"
        },
        "id": "8mRkoi2kEq2d",
        "outputId": "ba82ba25-3413-4d0b-bdc2-04159de0ab12"
      },
      "execution_count": null,
      "outputs": [
        {
          "output_type": "execute_result",
          "data": {
            "text/plain": [
              "['THE',\n",
              " 'GOAL',\n",
              " 'IS',\n",
              " 'TO',\n",
              " 'TURN',\n",
              " 'DATA',\n",
              " 'INTO',\n",
              " 'INFORMATION,',\n",
              " 'AND',\n",
              " 'INFORMATION',\n",
              " 'INTO',\n",
              " 'INSIGHT.']"
            ]
          },
          "metadata": {},
          "execution_count": 12
        }
      ]
    },
    {
      "cell_type": "markdown",
      "source": [
        "**Görev 3: Verilen listeye aşağıdaki adımları uygulayınız.**\n",
        "* lst= [\"D\",\"A\",\"T\",\"A\",\"S\",\"C\",\"I\",\"E\",\"N\",\"C\",\"E\"]\n",
        "* Adım 1: Verilen listenin eleman sayısına bakınız.\n",
        "* Adım 2: Sıfırıncı ve onuncu indeksteki elemanları çağırınız.\n",
        "* Adım 3: Verilen liste üzerinden [\"D\", \"A\", \"T\", \"A\"] listesi oluşturunuz.\n",
        "* Adım 4: Sekizinci indeksteki elemanı siliniz.\n",
        "* Adım 5: Yeni bir eleman ekleyiniz.\n",
        "* Adım 6: Sekizinci indekse \"N\" elemanını tekrar ekleyiniz."
      ],
      "metadata": {
        "id": "Vh7n3rIV5gnn"
      }
    },
    {
      "cell_type": "code",
      "source": [
        "lst= [\"D\",\"A\",\"T\",\"A\",\"S\",\"C\",\"I\",\"E\",\"N\",\"C\",\"E\"]"
      ],
      "metadata": {
        "id": "gaIT68f6FC_i"
      },
      "execution_count": null,
      "outputs": []
    },
    {
      "cell_type": "code",
      "source": [
        "len(lst)"
      ],
      "metadata": {
        "colab": {
          "base_uri": "https://localhost:8080/"
        },
        "id": "2RP0bQY8FJhy",
        "outputId": "4ffb650d-81d6-40a7-c9ab-d65c0c20d2c5"
      },
      "execution_count": null,
      "outputs": [
        {
          "output_type": "execute_result",
          "data": {
            "text/plain": [
              "11"
            ]
          },
          "metadata": {},
          "execution_count": 42
        }
      ]
    },
    {
      "cell_type": "code",
      "source": [
        "[lst[0], lst[10]]"
      ],
      "metadata": {
        "colab": {
          "base_uri": "https://localhost:8080/"
        },
        "id": "w-valF3eFJoX",
        "outputId": "bc9ee40f-86c0-4b0c-f576-f8881b32ebcf"
      },
      "execution_count": null,
      "outputs": [
        {
          "output_type": "execute_result",
          "data": {
            "text/plain": [
              "['D', 'E']"
            ]
          },
          "metadata": {},
          "execution_count": 43
        }
      ]
    },
    {
      "cell_type": "code",
      "source": [
        "lst[0:4]"
      ],
      "metadata": {
        "colab": {
          "base_uri": "https://localhost:8080/"
        },
        "id": "5ghkgm-fFaGF",
        "outputId": "b8c1ffb6-9b66-4ff3-bd00-fc5e5c4cf66f"
      },
      "execution_count": null,
      "outputs": [
        {
          "output_type": "execute_result",
          "data": {
            "text/plain": [
              "['D', 'A', 'T', 'A']"
            ]
          },
          "metadata": {},
          "execution_count": 45
        }
      ]
    },
    {
      "cell_type": "code",
      "source": [
        "lst.pop(8)\n",
        "lst"
      ],
      "metadata": {
        "colab": {
          "base_uri": "https://localhost:8080/"
        },
        "id": "0QAMcRjlFx9Q",
        "outputId": "897037f3-6da9-4414-d7b3-9b9d766aa07f"
      },
      "execution_count": null,
      "outputs": [
        {
          "output_type": "execute_result",
          "data": {
            "text/plain": [
              "['D', 'A', 'T', 'A', 'S', 'C', 'I', 'E', 'C', 'E']"
            ]
          },
          "metadata": {},
          "execution_count": 46
        }
      ]
    },
    {
      "cell_type": "code",
      "source": [
        "lst.append(20)\n",
        "lst"
      ],
      "metadata": {
        "colab": {
          "base_uri": "https://localhost:8080/"
        },
        "id": "Lth5pjDDGQXJ",
        "outputId": "e6923d9b-48dd-45d3-a345-d6283b54df13"
      },
      "execution_count": null,
      "outputs": [
        {
          "output_type": "execute_result",
          "data": {
            "text/plain": [
              "['D', 'A', 'T', 'A', 'S', 'C', 'I', 'E', 'C', 'E', 20]"
            ]
          },
          "metadata": {},
          "execution_count": 47
        }
      ]
    },
    {
      "cell_type": "code",
      "source": [
        "lst.insert(8, \"N\")\n",
        "lst"
      ],
      "metadata": {
        "colab": {
          "base_uri": "https://localhost:8080/"
        },
        "id": "arn0hfT9Gk08",
        "outputId": "5018372f-aeff-4b71-cdd6-05b5be748c70"
      },
      "execution_count": null,
      "outputs": [
        {
          "output_type": "execute_result",
          "data": {
            "text/plain": [
              "['D', 'A', 'T', 'A', 'S', 'C', 'I', 'E', 'N', 'C', 'E', 20]"
            ]
          },
          "metadata": {},
          "execution_count": 48
        }
      ]
    },
    {
      "cell_type": "markdown",
      "source": [
        "**Görev 4: Verilen sözlük yapısına aşağıdaki adımları uygulayınız.**\n",
        "* dict={'Cristian': [\"America\", 18], 'Daisy': [\"England\", 12], 'Antonio': [\"Spain\", 22], 'Dante': [\"Italy\", 25]}\n",
        "\n",
        "* Adım 1: Key değerlerine erişiniz.\n",
        "* Adım 2: Value'lara erişiniz.\n",
        "* Adım 3: Daisy key'ine ait 12 değerini 13 olarak güncelleyiniz.\n",
        "* Adım 4: Key değeri Ahmet value değeri [Turkey,24] olan yeni bir değer ekleyiniz.\n",
        "* Adım 5: Antonio'yu dictionary'den siliniz.\n"
      ],
      "metadata": {
        "id": "QvP_sbrN70nh"
      }
    },
    {
      "cell_type": "code",
      "source": [
        "dict={'Cristian': [\"America\", 18], 'Daisy': [\"England\", 12], 'Antonio': [\"Spain\", 22], 'Dante': [\"Italy\", 25]}"
      ],
      "metadata": {
        "id": "RR90HVpOHrd2"
      },
      "execution_count": null,
      "outputs": []
    },
    {
      "cell_type": "code",
      "source": [
        "dict.keys()"
      ],
      "metadata": {
        "colab": {
          "base_uri": "https://localhost:8080/"
        },
        "id": "1YyMy_xVH1lh",
        "outputId": "1f0e85af-2a3f-4876-e1bf-6babc4ce0eb1"
      },
      "execution_count": null,
      "outputs": [
        {
          "output_type": "execute_result",
          "data": {
            "text/plain": [
              "dict_keys(['Cristian', 'Daisy', 'Antonio', 'Dante'])"
            ]
          },
          "metadata": {},
          "execution_count": 8
        }
      ]
    },
    {
      "cell_type": "code",
      "source": [
        "dict.values()"
      ],
      "metadata": {
        "colab": {
          "base_uri": "https://localhost:8080/"
        },
        "id": "6WEmwj8yH2MW",
        "outputId": "fb06876b-ae98-4672-b4d3-6a893132e2fe"
      },
      "execution_count": null,
      "outputs": [
        {
          "output_type": "execute_result",
          "data": {
            "text/plain": [
              "dict_values([['America', 18], ['England', 12], ['Spain', 22], ['Italy', 25]])"
            ]
          },
          "metadata": {},
          "execution_count": 9
        }
      ]
    },
    {
      "cell_type": "code",
      "source": [
        "dict.update({'Daisy': [\"England\", 13]})\n",
        "dict"
      ],
      "metadata": {
        "colab": {
          "base_uri": "https://localhost:8080/"
        },
        "id": "f4IWmuhXH6nI",
        "outputId": "c4db37e7-60df-4edb-be55-1ce3b9e31b02"
      },
      "execution_count": null,
      "outputs": [
        {
          "output_type": "execute_result",
          "data": {
            "text/plain": [
              "{'Cristian': ['America', 18],\n",
              " 'Daisy': ['England', 13],\n",
              " 'Antonio': ['Spain', 22],\n",
              " 'Dante': ['Italy', 25]}"
            ]
          },
          "metadata": {},
          "execution_count": 10
        }
      ]
    },
    {
      "cell_type": "code",
      "source": [
        "dict.update({'Ahmet':[\"Turkey\",24]})\n",
        "dict"
      ],
      "metadata": {
        "colab": {
          "base_uri": "https://localhost:8080/"
        },
        "id": "bixBJM0AIk4k",
        "outputId": "0d16e73d-eb5f-482b-d28f-74e0ca458858"
      },
      "execution_count": null,
      "outputs": [
        {
          "output_type": "execute_result",
          "data": {
            "text/plain": [
              "{'Cristian': ['America', 18],\n",
              " 'Daisy': ['England', 13],\n",
              " 'Antonio': ['Spain', 22],\n",
              " 'Dante': ['Italy', 25],\n",
              " 'Ahmet': ['Turkey', 24]}"
            ]
          },
          "metadata": {},
          "execution_count": 11
        }
      ]
    },
    {
      "cell_type": "code",
      "source": [
        "del dict['Antonio']"
      ],
      "metadata": {
        "id": "CTIMhF36RnIg"
      },
      "execution_count": null,
      "outputs": []
    },
    {
      "cell_type": "code",
      "source": [
        "dict"
      ],
      "metadata": {
        "colab": {
          "base_uri": "https://localhost:8080/"
        },
        "id": "c7UFxeCDSoxj",
        "outputId": "e9ad88ee-4e36-4a03-c246-0a2ff3ccde79"
      },
      "execution_count": null,
      "outputs": [
        {
          "output_type": "execute_result",
          "data": {
            "text/plain": [
              "{'Cristian': ['America', 18],\n",
              " 'Daisy': ['England', 13],\n",
              " 'Dante': ['Italy', 25],\n",
              " 'Ahmet': ['Turkey', 24]}"
            ]
          },
          "metadata": {},
          "execution_count": 13
        }
      ]
    },
    {
      "cell_type": "markdown",
      "source": [
        "**Görev 5: Argüman olarak bir liste alan, listenin içerisindeki tek ve çift sayıları ayrı listelere atayan ve bu listeleri return eden fonksiyon yazınız.**\n",
        "* l= [2,13,18,93,22]\n",
        "\n",
        "\n",
        "\n",
        "\n",
        "\n",
        "\n",
        "\n",
        "\n"
      ],
      "metadata": {
        "id": "zBnbn0xb-UY4"
      }
    },
    {
      "cell_type": "code",
      "source": [
        "lst= [2,13,18,93,22]"
      ],
      "metadata": {
        "id": "zMdPSDWbJC3l"
      },
      "execution_count": null,
      "outputs": []
    },
    {
      "cell_type": "code",
      "source": [
        "def tek_cift_sayilar(liste):\n",
        "   cift_sayi=[]\n",
        "   tek_sayi=[]\n",
        "   for x in liste:\n",
        "     if x % 2 == 0:\n",
        "      cift_sayi.append(x)\n",
        "     else:\n",
        "      tek_sayi.append(x)\n",
        "   return tek_sayi, cift_sayi\n"
      ],
      "metadata": {
        "id": "-WKSOzocRYK2"
      },
      "execution_count": null,
      "outputs": []
    },
    {
      "cell_type": "code",
      "source": [
        "tek, cift=tek_cift_sayilar(lst)"
      ],
      "metadata": {
        "id": "aVFYHhQkTAYn"
      },
      "execution_count": null,
      "outputs": []
    },
    {
      "cell_type": "code",
      "source": [
        "cift"
      ],
      "metadata": {
        "colab": {
          "base_uri": "https://localhost:8080/"
        },
        "id": "fpxpI0dnVeGc",
        "outputId": "cd8ddcd6-c4eb-4abc-9fff-e2ea0ca63bca"
      },
      "execution_count": null,
      "outputs": [
        {
          "output_type": "execute_result",
          "data": {
            "text/plain": [
              "[2, 18, 22]"
            ]
          },
          "metadata": {},
          "execution_count": 52
        }
      ]
    },
    {
      "cell_type": "code",
      "source": [
        "tek"
      ],
      "metadata": {
        "colab": {
          "base_uri": "https://localhost:8080/"
        },
        "id": "X1gzmWOAVhWE",
        "outputId": "f4f973af-901f-4cd9-bd5e-3531a986fc8d"
      },
      "execution_count": null,
      "outputs": [
        {
          "output_type": "execute_result",
          "data": {
            "text/plain": [
              "[13, 93]"
            ]
          },
          "metadata": {},
          "execution_count": 53
        }
      ]
    },
    {
      "cell_type": "markdown",
      "source": [
        "**Görev 6: Aşağıda verilen listede mühendislik ve tıp fakülterinde dereceye giren öğrencilerin isimleri\n",
        "bulunmaktadır. Sırasıyla ilk üç öğrenci mühendislik fakültesinin başarı sırasını temsil ederken son üç öğrenci de\n",
        "tıp fakültesi öğrenci sırasına aittir. Enumarate kullanarak öğrenci derecelerini fakülte özelinde yazdırınız.**\n",
        "* ogrenciler= [\"Ali\", \"Veli\", \"Ayşe\", \"Talat\", \"Zeynep\", \"Ece\"]"
      ],
      "metadata": {
        "id": "Gcp_hSEx_i6N"
      }
    },
    {
      "cell_type": "code",
      "source": [
        "ogrenciler= [\"Ali\", \"Veli\", \"Ayşe\", \"Talat\", \"Zeynep\", \"Ece\"]\n",
        "muh_fak=[]\n",
        "tıp_fak=[]\n",
        "for indeks, ogrenci in enumerate(ogrenciler):\n",
        "  if indeks<=2:\n",
        "    muh_fak.append(ogrenci)\n",
        "  else:\n",
        "    tıp_fak.append(ogrenci)\n"
      ],
      "metadata": {
        "id": "WWvgIyXDJlYx"
      },
      "execution_count": null,
      "outputs": []
    },
    {
      "cell_type": "code",
      "source": [
        "muh_fak"
      ],
      "metadata": {
        "colab": {
          "base_uri": "https://localhost:8080/"
        },
        "id": "LfO8oerkYMeU",
        "outputId": "2be168f5-c607-49eb-fbfb-2f28da330f34"
      },
      "execution_count": null,
      "outputs": [
        {
          "output_type": "execute_result",
          "data": {
            "text/plain": [
              "['Ali', 'Veli', 'Ayşe']"
            ]
          },
          "metadata": {},
          "execution_count": 58
        }
      ]
    },
    {
      "cell_type": "code",
      "source": [
        "tıp_fak"
      ],
      "metadata": {
        "colab": {
          "base_uri": "https://localhost:8080/"
        },
        "id": "ad37S43JYS2G",
        "outputId": "0e327700-2555-4c78-9f78-bf4e5ed8e3dc"
      },
      "execution_count": null,
      "outputs": [
        {
          "output_type": "execute_result",
          "data": {
            "text/plain": [
              "['Talat', 'Zeynep', 'Ece']"
            ]
          },
          "metadata": {},
          "execution_count": 59
        }
      ]
    },
    {
      "cell_type": "markdown",
      "source": [
        "**Görev 7: Aşağıda 3 adet liste verilmiştir. Listelerde sırası ile bir dersin kodu, kredisi ve kontenjan bilgileri yer\n",
        "almaktadır. Zip kullanarak ders bilgilerini bastırınız.**\n",
        "* ders_kodu=[\"CMP1005\", \"PYS1001\", \"HUK1005\", \"SEN2204\"]\n",
        "* kredi=[3,4,2,4]\n",
        "* kontenjan=[30,75,150,25]"
      ],
      "metadata": {
        "id": "uOEsg4Oc_9ZM"
      }
    },
    {
      "cell_type": "code",
      "source": [
        "ders_kodu=[\"CMP1005\", \"PYS1001\", \"HUK1005\", \"SEN2204\"]\n",
        "kredi=[3,4,2,4]\n",
        "kontenjan=[30,75,150,25]"
      ],
      "metadata": {
        "id": "j_c7xHj2YyRQ"
      },
      "execution_count": null,
      "outputs": []
    },
    {
      "cell_type": "code",
      "source": [
        "list(zip(ders_kodu,kredi,kontenjan))"
      ],
      "metadata": {
        "colab": {
          "base_uri": "https://localhost:8080/"
        },
        "id": "zoldtPZLYkxv",
        "outputId": "160a67d7-1dd7-41b6-833d-4beb4393cece"
      },
      "execution_count": null,
      "outputs": [
        {
          "output_type": "execute_result",
          "data": {
            "text/plain": [
              "[('CMP1005', 3, 30),\n",
              " ('PYS1001', 4, 75),\n",
              " ('HUK1005', 2, 150),\n",
              " ('SEN2204', 4, 25)]"
            ]
          },
          "metadata": {},
          "execution_count": 62
        }
      ]
    },
    {
      "cell_type": "markdown",
      "source": [
        "**Görev 8: Aşağıda 2 adet set verilmiştir. Sizden istenilen eğer 1. küme 2. kümeyi kapsiyor ise ortak elemanlarını eğer kapsamıyor ise 2. kümenin 1. kümeden farkını yazdıracak fonksiyonu tanımlamanız beklenmektedir.**\n",
        "* kume1= set([\"data\", \"python\"])\n",
        "* kume2= set([\"data\", \"function\", \"qcut\", \"lambda\",\"python\",\"miuul\"])"
      ],
      "metadata": {
        "id": "wvMJoMH4A3r0"
      }
    },
    {
      "cell_type": "code",
      "source": [
        "kume1= set([\"data\", \"python\"])\n",
        "kume2= set([\"data\", \"function\", \"qcut\", \"lambda\",\"python\",\"miuul\"])"
      ],
      "metadata": {
        "id": "Q2Rbr5WwY3MB"
      },
      "execution_count": null,
      "outputs": []
    },
    {
      "cell_type": "code",
      "source": [
        "def fonk(set1,set2):\n",
        "  if set1.issuperset(set2)==True:\n",
        "    print(set1.intersection(set2))\n",
        "  else:\n",
        "    print(set2.difference(set1))\n"
      ],
      "metadata": {
        "id": "UkdpTQE-ZYPu"
      },
      "execution_count": null,
      "outputs": []
    },
    {
      "cell_type": "code",
      "source": [
        "fonk(kume1,kume2)"
      ],
      "metadata": {
        "colab": {
          "base_uri": "https://localhost:8080/"
        },
        "id": "IL8WL83QafDU",
        "outputId": "7e44db1a-1d96-47b6-b64a-dabfbfa168c3"
      },
      "execution_count": null,
      "outputs": [
        {
          "output_type": "stream",
          "name": "stdout",
          "text": [
            "{'function', 'miuul', 'qcut', 'lambda'}\n"
          ]
        }
      ]
    },
    {
      "cell_type": "code",
      "source": [],
      "metadata": {
        "id": "jA9qAnADajPP"
      },
      "execution_count": null,
      "outputs": []
    }
  ]
}